{
  "nbformat": 4,
  "nbformat_minor": 0,
  "metadata": {
    "colab": {
      "name": "Copy of reddit-loseit-Data Cleaning.ipynb",
      "provenance": [],
      "collapsed_sections": [],
      "machine_shape": "hm"
    },
    "kernelspec": {
      "name": "python3",
      "display_name": "Python 3"
    },
    "accelerator": "GPU"
  },
  "cells": [
    {
      "cell_type": "code",
      "metadata": {
        "id": "6jS95kF22JsR",
        "colab_type": "code",
        "colab": {}
      },
      "source": [
        "import matplotlib.pyplot as plt\n",
        "import numpy as np\n",
        "import pandas as pd\n",
        "import seaborn as sb\n",
        "from datetime import datetime\n",
        "from wordcloud import WordCloud, STOPWORDS"
      ],
      "execution_count": null,
      "outputs": []
    },
    {
      "cell_type": "code",
      "metadata": {
        "id": "uQVUnfQK5cr_",
        "colab_type": "code",
        "colab": {
          "base_uri": "https://localhost:8080/",
          "height": 55
        },
        "outputId": "678c38a4-3c48-4c73-a76a-3288be927515"
      },
      "source": [
        "record=[]\n",
        "hand=open('loseit.txt')\n",
        "for lose in hand:\n",
        "  lose=lose.rstrip()\n",
        "  words=lose.split(',')\n",
        "  record.append(words)\n",
        "\n",
        "print(record[0])"
      ],
      "execution_count": null,
      "outputs": [
        {
          "output_type": "stream",
          "text": [
            "['False', 'ekinho', '1424007520', '', 'noflair', '[]', '', 'New', 'dark', 'text', 't2_ldbry', 'False', 'Dont be afraid of becoming fat again remember that you can do exactly what you did  to get where you are now. Again. All you need is willpower.', 'True', 'False', 'False', 'None', '0', '1538352007', 'None', 'False', '0', \"{'gid_1': 0 'gid_2': 0 'gid_3': 0}\", 'e6xucm5', 'False', 't3_9k5icl', 'True', 't3_9k5icl', '/r/loseit/comments/9k5icl/its_still_so_surreal_being_skinny_i_sometimes/e6xucm5/', 'None', '1539714095', '2', 'True', 'False', 'loseit', 't5_2rz8w', 'r/loseit', 'public']\n"
          ],
          "name": "stdout"
        }
      ]
    },
    {
      "cell_type": "code",
      "metadata": {
        "id": "MpXa-W3C8EPK",
        "colab_type": "code",
        "colab": {}
      },
      "source": [
        "lst=[]\n",
        "for j in range(len(record)):\n",
        "  if len(record[j])==38:\n",
        "    lst.append(record[j])\n",
        "\n",
        "lst=pd.DataFrame(lst)"
      ],
      "execution_count": null,
      "outputs": []
    },
    {
      "cell_type": "code",
      "metadata": {
        "id": "Z6_9Oms08ZIX",
        "colab_type": "code",
        "colab": {}
      },
      "source": [
        "lst.columns=['archived','author','author_created_utc',\n",
        "                     'author_flair_background_color',\n",
        "                     'author_flair_css_class',\n",
        "                     'author_flair_richtext',\n",
        "                     'author_flair_template_id',\n",
        "                     'author_flair_text',\n",
        "                     'author_flair_text_color',\n",
        "                     'author_flair_type',\n",
        "                     'author_fullname',\n",
        "                     'author_patreon_flair',\n",
        "                     'body',\n",
        "                     'can_gild',\n",
        "                     'can_mod_post',\n",
        "                     'collapsed',\n",
        "                     'collapsed_reason',\n",
        "                     'controversiality',\n",
        "                     'created_utc',\n",
        "                     'distinguished',\n",
        "                     'edited',\n",
        "                     'gilded',\n",
        "                     'gildings',\n",
        "                     'id',\n",
        "                     'is_submitter',\n",
        "                     'link_id',\n",
        "                     'no_follow',\n",
        "                     'parent_id',\n",
        "                     'permalink',\n",
        "                     'removal_reason',\n",
        "                     'retrieved_on',\n",
        "                     'score',\n",
        "                     'send_replies',\n",
        "                     'stickied',\n",
        "                     'subreddit',\n",
        "                     'subreddit_id',\n",
        "                     'subreddit_name_prefixed',\n",
        "                     'subreddit_type']"
      ],
      "execution_count": null,
      "outputs": []
    },
    {
      "cell_type": "code",
      "metadata": {
        "id": "0h536HDgeJyx",
        "colab_type": "code",
        "colab": {}
      },
      "source": [
        "### check each important columns: post 'body','score','created_utc' and 'author'\n",
        "### by checking the value appear the most in each of these four columns, I found some malpositioned rows and an auhthor called 'automoderator'\n",
        "### who just post subreddit rules or ads, so all these rows are removed"
      ],
      "execution_count": null,
      "outputs": []
    },
    {
      "cell_type": "code",
      "metadata": {
        "id": "0M4ehOsB-eEp",
        "colab_type": "code",
        "colab": {}
      },
      "source": [
        "lst_clean=lst.dropna()\n",
        "lst_clean=lst_clean[(lst_clean['author']!='None') & (lst_clean['author']!='[deleted]')]"
      ],
      "execution_count": null,
      "outputs": []
    },
    {
      "cell_type": "code",
      "metadata": {
        "id": "wkt9HXE--uUc",
        "colab_type": "code",
        "colab": {}
      },
      "source": [
        "lst_clean2=lst_clean[lst_clean['author']!='AutoModerator']"
      ],
      "execution_count": null,
      "outputs": []
    },
    {
      "cell_type": "code",
      "metadata": {
        "id": "M-9vIrgm-ysQ",
        "colab_type": "code",
        "colab": {}
      },
      "source": [
        "lst_clean3=lst_clean2[lst_clean2['author']!='1325741068']"
      ],
      "execution_count": null,
      "outputs": []
    },
    {
      "cell_type": "code",
      "metadata": {
        "id": "RY3tg-7K_MMk",
        "colab_type": "code",
        "colab": {}
      },
      "source": [
        "lst_clean4=lst_clean3[(lst_clean3['body']!='True') & (lst_clean3['body']!='False')]"
      ],
      "execution_count": null,
      "outputs": []
    },
    {
      "cell_type": "code",
      "metadata": {
        "id": "0YgD-ddDe6to",
        "colab_type": "code",
        "colab": {}
      },
      "source": [
        "### find out post 'score' outlier. The top 1 & 2 scores (11189 & 6718) are far more higher than the top 3 (2299) score\n",
        "### Considering there are more than 130k records in total, removing these two records will not impact the information I can get from the data\n",
        "### and the distribution of 'score' will be more reasonable."
      ],
      "execution_count": null,
      "outputs": []
    },
    {
      "cell_type": "code",
      "metadata": {
        "id": "FTgC3o0k_U-O",
        "colab_type": "code",
        "colab": {}
      },
      "source": [
        "lst_score_ct=lst_clean4.groupby('score')['score'].count().to_frame()"
      ],
      "execution_count": null,
      "outputs": []
    },
    {
      "cell_type": "code",
      "metadata": {
        "id": "BmP1jPSRA5fU",
        "colab_type": "code",
        "colab": {
          "base_uri": "https://localhost:8080/",
          "height": 316
        },
        "outputId": "c6f52860-58b0-432d-ea78-6e2d67bd5ad2"
      },
      "source": [
        "sb.boxplot(lst_score_ct['score'].astype(int))"
      ],
      "execution_count": null,
      "outputs": [
        {
          "output_type": "execute_result",
          "data": {
            "text/plain": [
              "<matplotlib.axes._subplots.AxesSubplot at 0x7fc2657d0278>"
            ]
          },
          "metadata": {
            "tags": []
          },
          "execution_count": 93
        },
        {
          "output_type": "display_data",
          "data": {
            "image/png": "[encoded data removed]",
            "text/plain": [
              "<Figure size 432x288 with 1 Axes>"
            ]
          },
          "metadata": {
            "tags": [],
            "needs_background": "light"
          }
        }
      ]
    },
    {
      "cell_type": "code",
      "metadata": {
        "id": "UQqC8EbUBCgw",
        "colab_type": "code",
        "colab": {
          "base_uri": "https://localhost:8080/",
          "height": 55
        },
        "outputId": "156bbf74-abde-4233-9462-ab2ced071ea5"
      },
      "source": [
        "list(lst_clean4[lst_clean4['score']=='11189']['body'])"
      ],
      "execution_count": null,
      "outputs": [
        {
          "output_type": "execute_result",
          "data": {
            "text/plain": [
              "['Hey guys. At someone’s suggestion I’m signing off reddit. Gonna delete the app from my phone &amp; logout on my desktop.   I won’t be back until June 15th 2019 when I’ll post a progress pic on r/loseit  .  Thank you for your kind words gentle roasts &amp; accusations of paedophilia.   Can someone do one of those remind me bot things on this comment? Thanks &amp; I love you. I won’t let you down.   !remind me 6 months !remindme 6 months']"
            ]
          },
          "metadata": {
            "tags": []
          },
          "execution_count": 24
        }
      ]
    },
    {
      "cell_type": "code",
      "metadata": {
        "id": "ruCZzw7dS03y",
        "colab_type": "code",
        "colab": {
          "base_uri": "https://localhost:8080/",
          "height": 55
        },
        "outputId": "c54867ee-2dd9-43a4-ff3e-dd80a896d799"
      },
      "source": [
        "list(lst_clean4[lst_clean4['score']=='6718']['body'])"
      ],
      "execution_count": null,
      "outputs": [
        {
          "output_type": "execute_result",
          "data": {
            "text/plain": [
              "['Being fat &amp; people telling you to ‘love yourself for who you are’ that kind of stuff. I’m obese &amp; it fucking sucks. There’s nothing good about it. It’s the main reason for so many of my insecurities. I’m trying to finally get in shape now &amp; I want nothing more than to reach my goal.   Thank you everyone for all the kind words of encouragement I’m not gonna stop. Having communities like r/loseit helps so much. I won’t disappoint!']"
            ]
          },
          "metadata": {
            "tags": []
          },
          "execution_count": 25
        }
      ]
    },
    {
      "cell_type": "code",
      "metadata": {
        "id": "CVvmdQVvPjqs",
        "colab_type": "code",
        "colab": {}
      },
      "source": [
        "lst_clean5=lst_clean4[lst_clean4['score']!='11189']\n",
        "lst_clean5=lst_clean5[lst_clean5['score']!='6718']"
      ],
      "execution_count": null,
      "outputs": []
    },
    {
      "cell_type": "code",
      "metadata": {
        "id": "gvHoVIqFUMYC",
        "colab_type": "code",
        "colab": {
          "base_uri": "https://localhost:8080/",
          "height": 55
        },
        "outputId": "c7548378-d339-4ccc-c365-d95e7f9da912"
      },
      "source": [
        "len(lst_clean5)"
      ],
      "execution_count": null,
      "outputs": [
        {
          "output_type": "execute_result",
          "data": {
            "text/plain": [
              "137632"
            ]
          },
          "metadata": {
            "tags": []
          },
          "execution_count": 27
        }
      ]
    },
    {
      "cell_type": "code",
      "metadata": {
        "id": "mpCfei0OUjvm",
        "colab_type": "code",
        "colab": {}
      },
      "source": [
        "lst_score_ct2=lst_clean5.groupby('score')['score'].count().to_frame()\n",
        "lst_score_ct2.columns=['cnt']\n",
        "lst_score_ct2.reset_index(inplace=True)"
      ],
      "execution_count": null,
      "outputs": []
    },
    {
      "cell_type": "code",
      "metadata": {
        "id": "uM_esi6sVCnq",
        "colab_type": "code",
        "colab": {
          "base_uri": "https://localhost:8080/",
          "height": 446
        },
        "outputId": "7479a73e-a804-4ac6-adc7-205e5a3efd02"
      },
      "source": [
        "print(lst_score_ct2['score'].astype(int).describe())\n",
        "sb.boxenplot(y=lst_score_ct2['score'].astype(int))\n",
        "plt.title('score boxplot')\n",
        "plt.show()"
      ],
      "execution_count": null,
      "outputs": [
        {
          "output_type": "stream",
          "text": [
            "count     478.000000\n",
            "mean      301.366109\n",
            "std       381.654115\n",
            "min      -158.000000\n",
            "25%        69.250000\n",
            "50%       193.500000\n",
            "75%       392.500000\n",
            "max      2761.000000\n",
            "Name: score, dtype: float64\n"
          ],
          "name": "stdout"
        },
        {
          "output_type": "display_data",
          "data": {
            "image/png": "[encoded data removed]",
            "text/plain": [
              "<Figure size 432x288 with 1 Axes>"
            ]
          },
          "metadata": {
            "tags": [],
            "needs_background": "light"
          }
        }
      ]
    },
    {
      "cell_type": "code",
      "metadata": {
        "id": "9GZacmu7ffzW",
        "colab_type": "code",
        "colab": {
          "base_uri": "https://localhost:8080/",
          "height": 473
        },
        "outputId": "d1b335db-e19c-4b7d-d0c2-629f001b08e6"
      },
      "source": [
        "print(lst_score_ct2['score'].astype(int).describe())\n",
        "sb.distplot(lst_score_ct2['score'].astype(int))\n",
        "plt.title('score distribution')\n",
        "plt.show()"
      ],
      "execution_count": null,
      "outputs": [
        {
          "output_type": "stream",
          "text": [
            "count     478.000000\n",
            "mean      301.366109\n",
            "std       381.654115\n",
            "min      -158.000000\n",
            "25%        69.250000\n",
            "50%       193.500000\n",
            "75%       392.500000\n",
            "max      2761.000000\n",
            "Name: score, dtype: float64\n"
          ],
          "name": "stdout"
        },
        {
          "output_type": "display_data",
          "data": {
            "image/png": "[encoded data removed]",
            "text/plain": [
              "<Figure size 432x288 with 1 Axes>"
            ]
          },
          "metadata": {
            "tags": [],
            "needs_background": "light"
          }
        }
      ]
    },
    {
      "cell_type": "code",
      "metadata": {
        "id": "zdlS3Aei644j",
        "colab_type": "code",
        "colab": {}
      },
      "source": [
        "### check the relation between 'created time' and 'score'\n",
        "### the correlation coefficient is very low, indicating there is no direct connection"
      ],
      "execution_count": null,
      "outputs": []
    },
    {
      "cell_type": "code",
      "metadata": {
        "id": "MZP_vUTc25U-",
        "colab_type": "code",
        "colab": {}
      },
      "source": [
        "created_time=lst_clean5['created_utc'].astype(int).to_list()"
      ],
      "execution_count": null,
      "outputs": []
    },
    {
      "cell_type": "code",
      "metadata": {
        "id": "f_pEParI4S7W",
        "colab_type": "code",
        "colab": {}
      },
      "source": [
        "created_time2=[]\n",
        "for i in created_time:\n",
        "  t=pd.to_datetime(i,unit='s')\n",
        "  created_time2.append(t)"
      ],
      "execution_count": null,
      "outputs": []
    },
    {
      "cell_type": "code",
      "metadata": {
        "id": "FMh_eCPyTwdH",
        "colab_type": "code",
        "colab": {
          "base_uri": "https://localhost:8080/",
          "height": 55
        },
        "outputId": "130fef69-e511-4bef-dc53-e677c8882c89"
      },
      "source": [
        "max(created_time2)"
      ],
      "execution_count": null,
      "outputs": [
        {
          "output_type": "execute_result",
          "data": {
            "text/plain": [
              "Timestamp('2019-01-31 08:35:48')"
            ]
          },
          "metadata": {
            "tags": []
          },
          "execution_count": 76
        }
      ]
    },
    {
      "cell_type": "code",
      "metadata": {
        "id": "5M3UxfqD6OPM",
        "colab_type": "code",
        "colab": {
          "base_uri": "https://localhost:8080/",
          "height": 55
        },
        "outputId": "2c6d284c-15c1-48ef-a980-5be44b83d693"
      },
      "source": [
        "min(created_time2)"
      ],
      "execution_count": null,
      "outputs": [
        {
          "output_type": "execute_result",
          "data": {
            "text/plain": [
              "Timestamp('2018-10-01 00:00:07')"
            ]
          },
          "metadata": {
            "tags": []
          },
          "execution_count": 42
        }
      ]
    },
    {
      "cell_type": "code",
      "metadata": {
        "id": "m9sIGvVh7n_O",
        "colab_type": "code",
        "colab": {
          "base_uri": "https://localhost:8080/",
          "height": 55
        },
        "outputId": "10bbe4fa-bd83-4394-97cb-909a261776d5"
      },
      "source": [
        "lst_clean5['score'].astype(int).corr(lst_clean5['created_utc'].astype(int))"
      ],
      "execution_count": null,
      "outputs": [
        {
          "output_type": "execute_result",
          "data": {
            "text/plain": [
              "0.008637950175856047"
            ]
          },
          "metadata": {
            "tags": []
          },
          "execution_count": 46
        }
      ]
    }
  ]
}